{
 "cells": [
  {
   "cell_type": "markdown",
   "metadata": {
    "id": "tGLUK25Ecm9F"
   },
   "source": [
    "# 1. Đọc dữ liệu (1 điểm)"
   ]
  },
  {
   "cell_type": "code",
   "execution_count": 2,
   "metadata": {
    "executionInfo": {
     "elapsed": 1571,
     "status": "ok",
     "timestamp": 1740731825856,
     "user": {
      "displayName": "Lưu Giang Nam",
      "userId": "01856778175006180165"
     },
     "user_tz": -420
    },
    "id": "PLOxz4RUbbdk"
   },
   "outputs": [
    {
     "data": {
      "text/html": [
       "<div>\n",
       "<style scoped>\n",
       "    .dataframe tbody tr th:only-of-type {\n",
       "        vertical-align: middle;\n",
       "    }\n",
       "\n",
       "    .dataframe tbody tr th {\n",
       "        vertical-align: top;\n",
       "    }\n",
       "\n",
       "    .dataframe thead th {\n",
       "        text-align: right;\n",
       "    }\n",
       "</style>\n",
       "<table border=\"1\" class=\"dataframe\">\n",
       "  <thead>\n",
       "    <tr style=\"text-align: right;\">\n",
       "      <th></th>\n",
       "      <th>User_ID</th>\n",
       "      <th>Product_ID</th>\n",
       "      <th>Gender</th>\n",
       "      <th>Age</th>\n",
       "      <th>Occupation</th>\n",
       "      <th>City_Category</th>\n",
       "      <th>Stay_In_Current_City_Years</th>\n",
       "      <th>Marital_Status</th>\n",
       "      <th>Product_Category_1</th>\n",
       "      <th>Product_Category_2</th>\n",
       "      <th>Product_Category_3</th>\n",
       "      <th>Purchase</th>\n",
       "    </tr>\n",
       "  </thead>\n",
       "  <tbody>\n",
       "    <tr>\n",
       "      <th>0</th>\n",
       "      <td>1000001</td>\n",
       "      <td>P00069042</td>\n",
       "      <td>F</td>\n",
       "      <td>0-17</td>\n",
       "      <td>10</td>\n",
       "      <td>A</td>\n",
       "      <td>2</td>\n",
       "      <td>0</td>\n",
       "      <td>3</td>\n",
       "      <td>NaN</td>\n",
       "      <td>NaN</td>\n",
       "      <td>8370</td>\n",
       "    </tr>\n",
       "    <tr>\n",
       "      <th>1</th>\n",
       "      <td>1000001</td>\n",
       "      <td>P00248942</td>\n",
       "      <td>F</td>\n",
       "      <td>0-17</td>\n",
       "      <td>10</td>\n",
       "      <td>A</td>\n",
       "      <td>2</td>\n",
       "      <td>0</td>\n",
       "      <td>1</td>\n",
       "      <td>6.0</td>\n",
       "      <td>14.0</td>\n",
       "      <td>15200</td>\n",
       "    </tr>\n",
       "    <tr>\n",
       "      <th>2</th>\n",
       "      <td>1000001</td>\n",
       "      <td>P00087842</td>\n",
       "      <td>F</td>\n",
       "      <td>0-17</td>\n",
       "      <td>10</td>\n",
       "      <td>A</td>\n",
       "      <td>2</td>\n",
       "      <td>0</td>\n",
       "      <td>12</td>\n",
       "      <td>NaN</td>\n",
       "      <td>NaN</td>\n",
       "      <td>1422</td>\n",
       "    </tr>\n",
       "    <tr>\n",
       "      <th>3</th>\n",
       "      <td>1000001</td>\n",
       "      <td>P00085442</td>\n",
       "      <td>F</td>\n",
       "      <td>0-17</td>\n",
       "      <td>10</td>\n",
       "      <td>A</td>\n",
       "      <td>2</td>\n",
       "      <td>0</td>\n",
       "      <td>12</td>\n",
       "      <td>14.0</td>\n",
       "      <td>NaN</td>\n",
       "      <td>1057</td>\n",
       "    </tr>\n",
       "    <tr>\n",
       "      <th>4</th>\n",
       "      <td>1000002</td>\n",
       "      <td>P00285442</td>\n",
       "      <td>M</td>\n",
       "      <td>55+</td>\n",
       "      <td>16</td>\n",
       "      <td>C</td>\n",
       "      <td>4+</td>\n",
       "      <td>0</td>\n",
       "      <td>8</td>\n",
       "      <td>NaN</td>\n",
       "      <td>NaN</td>\n",
       "      <td>7969</td>\n",
       "    </tr>\n",
       "  </tbody>\n",
       "</table>\n",
       "</div>"
      ],
      "text/plain": [
       "   User_ID Product_ID Gender   Age  Occupation City_Category  \\\n",
       "0  1000001  P00069042      F  0-17          10             A   \n",
       "1  1000001  P00248942      F  0-17          10             A   \n",
       "2  1000001  P00087842      F  0-17          10             A   \n",
       "3  1000001  P00085442      F  0-17          10             A   \n",
       "4  1000002  P00285442      M   55+          16             C   \n",
       "\n",
       "  Stay_In_Current_City_Years  Marital_Status  Product_Category_1  \\\n",
       "0                          2               0                   3   \n",
       "1                          2               0                   1   \n",
       "2                          2               0                  12   \n",
       "3                          2               0                  12   \n",
       "4                         4+               0                   8   \n",
       "\n",
       "   Product_Category_2  Product_Category_3  Purchase  \n",
       "0                 NaN                 NaN      8370  \n",
       "1                 6.0                14.0     15200  \n",
       "2                 NaN                 NaN      1422  \n",
       "3                14.0                 NaN      1057  \n",
       "4                 NaN                 NaN      7969  "
      ]
     },
     "execution_count": 2,
     "metadata": {},
     "output_type": "execute_result"
    }
   ],
   "source": [
    "import pandas as pd\n",
    "\n",
    "# Đọc dữ liệu\n",
    "df = pd.read_csv('black_friday.csv')\n",
    "\n",
    "# Hiển thị 5 dòng đầu tiên\n",
    "df.head()"
   ]
  },
  {
   "cell_type": "markdown",
   "metadata": {
    "id": "Ijcigy91cogB"
   },
   "source": [
    "# 2. Thông tin dữ liệu (1 điểm)"
   ]
  },
  {
   "cell_type": "code",
   "execution_count": 5,
   "metadata": {
    "executionInfo": {
     "elapsed": 7,
     "status": "ok",
     "timestamp": 1740731828997,
     "user": {
      "displayName": "Lưu Giang Nam",
      "userId": "01856778175006180165"
     },
     "user_tz": -420
    },
    "id": "xYQrytb1cj5D"
   },
   "outputs": [
    {
     "name": "stdout",
     "output_type": "stream",
     "text": [
      "<class 'pandas.core.frame.DataFrame'>\n",
      "RangeIndex: 550068 entries, 0 to 550067\n",
      "Data columns (total 12 columns):\n",
      " #   Column                      Non-Null Count   Dtype  \n",
      "---  ------                      --------------   -----  \n",
      " 0   User_ID                     550068 non-null  int64  \n",
      " 1   Product_ID                  550068 non-null  object \n",
      " 2   Gender                      550068 non-null  object \n",
      " 3   Age                         550068 non-null  object \n",
      " 4   Occupation                  550068 non-null  int64  \n",
      " 5   City_Category               550068 non-null  object \n",
      " 6   Stay_In_Current_City_Years  550068 non-null  object \n",
      " 7   Marital_Status              550068 non-null  int64  \n",
      " 8   Product_Category_1          550068 non-null  int64  \n",
      " 9   Product_Category_2          376430 non-null  float64\n",
      " 10  Product_Category_3          166821 non-null  float64\n",
      " 11  Purchase                    550068 non-null  int64  \n",
      "dtypes: float64(2), int64(5), object(5)\n",
      "memory usage: 50.4+ MB\n",
      "so luong gia tri con thieu trong tung cot\n",
      "User_ID                            0\n",
      "Product_ID                         0\n",
      "Gender                             0\n",
      "Age                                0\n",
      "Occupation                         0\n",
      "City_Category                      0\n",
      "Stay_In_Current_City_Years         0\n",
      "Marital_Status                     0\n",
      "Product_Category_1                 0\n",
      "Product_Category_2            173638\n",
      "Product_Category_3            383247\n",
      "Purchase                           0\n",
      "dtype: int64\n"
     ]
    }
   ],
   "source": [
    "# Kiểm tra số dòng và số cột\n",
    "df.shape\n",
    "\n",
    "# Kiểm tra số lượng giá trị bị thiếu trong từng cột\n",
    "df.info()\n",
    "# print(f'co {df.isna().sum().sum()} gia tri thieu')\n",
    "print('so luong gia tri con thieu trong tung cot')\n",
    "print(df.isnull().sum())"
   ]
  },
  {
   "cell_type": "markdown",
   "metadata": {
    "id": "bftNMmqfc0Oz"
   },
   "source": [
    "Nhận xét:\n",
    "-\n",
    "-\n",
    "-"
   ]
  },
  {
   "cell_type": "markdown",
   "metadata": {
    "id": "0RtOe6aadK_D"
   },
   "source": [
    "# 3. Phân loại thuộc tính (1 điểm)\n"
   ]
  },
  {
   "cell_type": "code",
   "execution_count": 6,
   "metadata": {
    "executionInfo": {
     "elapsed": 6,
     "status": "ok",
     "timestamp": 1740731841280,
     "user": {
      "displayName": "Lưu Giang Nam",
      "userId": "01856778175006180165"
     },
     "user_tz": -420
    },
    "id": "Q3YzyV0LcsEb"
   },
   "outputs": [
    {
     "name": "stdout",
     "output_type": "stream",
     "text": [
      "Thuộc tính định tính: ['Product_ID', 'Gender', 'Age', 'City_Category', 'Stay_In_Current_City_Years']\n",
      "Thuộc tính định lượng: ['User_ID', 'Occupation', 'Marital_Status', 'Product_Category_1', 'Product_Category_2', 'Product_Category_3', 'Purchase']\n"
     ]
    }
   ],
   "source": [
    "# Code\n",
    "# df.columns\n",
    "qualitative = df.select_dtypes(include=['object']).columns.tolist()  # Thuộc tính định tính (categorical)\n",
    "quantitative = df.select_dtypes(include=['number']).columns.tolist()  # Thuộc tính định lượng (numerical)\n",
    "\n",
    "print(\"Thuộc tính định tính:\", qualitative)\n",
    "print(\"Thuộc tính định lượng:\", quantitative)\n"
   ]
  },
  {
   "cell_type": "markdown",
   "metadata": {
    "id": "T1ITzriTdKu5"
   },
   "source": [
    "- Các thuộc tính định tính (Categorical):\n",
    "\n",
    "\n",
    "\n",
    "- Các thuộc tính định lượng (Numerical):\n",
    "\n",
    "\n"
   ]
  },
  {
   "cell_type": "markdown",
   "metadata": {
    "id": "OdG842F-dV5B"
   },
   "source": [
    "# 4. Sản phẩm phổ biến (1 điểm)"
   ]
  },
  {
   "cell_type": "code",
   "execution_count": 10,
   "metadata": {
    "executionInfo": {
     "elapsed": 6,
     "status": "ok",
     "timestamp": 1740731855979,
     "user": {
      "displayName": "Lưu Giang Nam",
      "userId": "01856778175006180165"
     },
     "user_tz": -420
    },
    "id": "Zzd_glPvdPtZ"
   },
   "outputs": [
    {
     "name": "stdout",
     "output_type": "stream",
     "text": [
      "co luong loai san pham khac nhau: 3631\n",
      "san pham mua duoc nhieu nhat: P00265242\n"
     ]
    }
   ],
   "source": [
    "# Số lượng loại sản phẩm khác nhau\n",
    "print(f'co luong loai san pham khac nhau: {df['Product_ID'].nunique()}')\n",
    "\n",
    "# Sản phẩm được mua nhiều nhất\n",
    "print(f'san pham mua duoc nhieu nhat: {df['Product_ID'].value_counts().idxmax()}')\n",
    "\n"
   ]
  },
  {
   "cell_type": "markdown",
   "metadata": {
    "id": "rLT1BekPdkql"
   },
   "source": [
    "Nhận xét:\n",
    "\n",
    "-\n",
    "-\n"
   ]
  },
  {
   "cell_type": "markdown",
   "metadata": {
    "id": "atkLxLwkdn5X"
   },
   "source": [
    "# 5. Tỷ lệ nam và nữ (1 điểm)"
   ]
  },
  {
   "cell_type": "code",
   "execution_count": 23,
   "metadata": {
    "colab": {
     "base_uri": "https://localhost:8080/",
     "height": 473
    },
    "executionInfo": {
     "elapsed": 3174,
     "status": "ok",
     "timestamp": 1740459377850,
     "user": {
      "displayName": "Lưu Giang Nam",
      "userId": "01856778175006180165"
     },
     "user_tz": -420
    },
    "id": "xPoM9zgIdbpe",
    "outputId": "972bfc38-c78d-4491-e06b-93f178d58170"
   },
   "outputs": [
    {
     "name": "stdout",
     "output_type": "stream",
     "text": [
      "so luong nam: 414259\n",
      "so luong nu: 135809\n"
     ]
    }
   ],
   "source": [
    "# Đếm số lượng nam và nữ\n",
    "print(f'so luong nam: {df['Gender'].value_counts()['M']}')\n",
    "print(f'so luong nu: {df['Gender'].value_counts()['F']}')\n",
    "\n",
    "# Trực quan hóa (biểu đồ histogram)\n",
    "import seaborn as sns\n",
    "import matplotlib.pyplot as plt\n"
   ]
  },
  {
   "cell_type": "code",
   "execution_count": 29,
   "metadata": {},
   "outputs": [
    {
     "data": {
      "image/png": "[encoded data removed]",
      "text/plain": [
       "<Figure size 640x480 with 1 Axes>"
      ]
     },
     "metadata": {},
     "output_type": "display_data"
    }
   ],
   "source": [
    "# sns(df['Gender'].value_counts())\n",
    "plt.pie(df['Gender'].value_counts(), labels = df['Gender'].value_counts().index)\n",
    "plt.title('bieu do ti le nam nu')\n",
    "plt.legend()\n",
    "plt.show()"
   ]
  },
  {
   "cell_type": "markdown",
   "metadata": {
    "id": "WUPOSd1EdtqY"
   },
   "source": [
    "# 6. Nhóm tuổi có mức chi tiêu trung bình cao nhất (1 điểm)"
   ]
  },
  {
   "cell_type": "code",
   "execution_count": 38,
   "metadata": {
    "colab": {
     "base_uri": "https://localhost:8080/"
    },
    "executionInfo": {
     "elapsed": 56,
     "status": "ok",
     "timestamp": 1740459446895,
     "user": {
      "displayName": "Lưu Giang Nam",
      "userId": "01856778175006180165"
     },
     "user_tz": -420
    },
    "id": "q_8vfK9Ldneq",
    "outputId": "30662ae6-2f73-4f4e-caaf-0a6c588c23c4"
   },
   "outputs": [
    {
     "name": "stdout",
     "output_type": "stream",
     "text": [
      "Age\n",
      "0-17     8933.464640\n",
      "18-25    9169.663606\n",
      "26-35    9252.690633\n",
      "36-45    9331.350695\n",
      "46-50    9208.625697\n",
      "51-55    9534.808031\n",
      "55+      9336.280459\n",
      "Name: Purchase, dtype: float64\n",
      "nhom tuoi co muc chi tieu trung binh cao nhat : 51-55\n"
     ]
    },
    {
     "data": {
      "image/png": "[encoded data removed]",
      "text/plain": [
       "<Figure size 640x480 with 1 Axes>"
      ]
     },
     "metadata": {},
     "output_type": "display_data"
    }
   ],
   "source": [
    "ans = df.groupby('Age')['Purchase'].mean()\n",
    "# print(f'nhom tuoi co muc trung binh cao nhat : {ans}')\n",
    "print(ans)\n",
    "sns.barplot(data = ans)\n",
    "print(f'nhom tuoi co muc chi tieu trung binh cao nhat : {ans.idxmax()}')"
   ]
  },
  {
   "cell_type": "markdown",
   "metadata": {
    "id": "Qu-tX0UTd-yN"
   },
   "source": [
    "# 7. Thống kê mức chi tiêu"
   ]
  },
  {
   "cell_type": "code",
   "execution_count": 39,
   "metadata": {
    "colab": {
     "base_uri": "https://localhost:8080/",
     "height": 335
    },
    "executionInfo": {
     "elapsed": 19,
     "status": "ok",
     "timestamp": 1740459484775,
     "user": {
      "displayName": "Lưu Giang Nam",
      "userId": "01856778175006180165"
     },
     "user_tz": -420
    },
    "id": "dpHYLWO7dy7P",
    "outputId": "230f4be0-bbf3-4dd5-e295-783d51090945"
   },
   "outputs": [
    {
     "data": {
      "text/plain": [
       "mean      9263.968713\n",
       "median    8047.000000\n",
       "std       5023.065394\n",
       "Name: Purchase, dtype: float64"
      ]
     },
     "execution_count": 39,
     "metadata": {},
     "output_type": "execute_result"
    }
   ],
   "source": [
    "# Tính các đại lượng thống kê\n",
    "df['Purchase'].agg(['mean', 'median', 'std'])\n"
   ]
  },
  {
   "cell_type": "markdown",
   "metadata": {
    "id": "K6InYezmtXzi"
   },
   "source": [
    "Nhận xét:\n",
    "-\n",
    "-"
   ]
  },
  {
   "cell_type": "markdown",
   "metadata": {
    "id": "N6HtaEwdeFDy"
   },
   "source": [
    "# 8. Trực quan hóa phân bố chi tiêu"
   ]
  },
  {
   "cell_type": "code",
   "execution_count": 40,
   "metadata": {
    "executionInfo": {
     "elapsed": 14,
     "status": "ok",
     "timestamp": 1740731968261,
     "user": {
      "displayName": "Lưu Giang Nam",
      "userId": "01856778175006180165"
     },
     "user_tz": -420
    },
    "id": "wQKSpuMJeCWn"
   },
   "outputs": [
    {
     "data": {
      "text/plain": [
       "<Axes: xlabel='Purchase', ylabel='Count'>"
      ]
     },
     "execution_count": 40,
     "metadata": {},
     "output_type": "execute_result"
    },
    {
     "data": {
      "image/png": "[encoded data removed]",
      "text/plain": [
       "<Figure size 640x480 with 1 Axes>"
      ]
     },
     "metadata": {},
     "output_type": "display_data"
    }
   ],
   "source": [
    "# Vẽ đồ thị Histogram hoặc Line hoặc hỗn hợp.\n",
    "a = df['Purchase']\n",
    "sns.histplot(a)\n",
    "\n"
   ]
  },
  {
   "cell_type": "markdown",
   "metadata": {
    "id": "YppfUWNfeLCV"
   },
   "source": [
    "Nhận xét:\n",
    "-\n",
    "-"
   ]
  },
  {
   "cell_type": "markdown",
   "metadata": {
    "id": "2nLSmmKIeNQ2"
   },
   "source": [
    "# 9. Biểu đồ hộp so sánh mức chi tiêu theo nhóm tuổi và giới tính (1 điểm)\n",
    "\n",
    "\n",
    "\n",
    "\n"
   ]
  },
  {
   "cell_type": "code",
   "execution_count": 41,
   "metadata": {
    "executionInfo": {
     "elapsed": 6,
     "status": "ok",
     "timestamp": 1740731994962,
     "user": {
      "displayName": "Lưu Giang Nam",
      "userId": "01856778175006180165"
     },
     "user_tz": -420
    },
    "id": "rdFe381DeGei"
   },
   "outputs": [
    {
     "data": {
      "text/plain": [
       "<Axes: xlabel='Age', ylabel='Purchase'>"
      ]
     },
     "execution_count": 41,
     "metadata": {},
     "output_type": "execute_result"
    },
    {
     "data": {
      "image/png": "[encoded data removed]",
      "text/plain": [
       "<Figure size 640x480 with 1 Axes>"
      ]
     },
     "metadata": {},
     "output_type": "display_data"
    }
   ],
   "source": [
    "# Biểu đồ hộp (box-plot)\n",
    "sns.boxplot(data = df, x = 'Age', y = 'Purchase')\n",
    "\n"
   ]
  },
  {
   "cell_type": "markdown",
   "metadata": {
    "id": "I0nbzHaNesa4"
   },
   "source": [
    "Nhận xét:\n",
    "-\n",
    "-"
   ]
  },
  {
   "cell_type": "markdown",
   "metadata": {
    "id": "4fg2vYV9e4jH"
   },
   "source": [
    "# 10. Biểu đồ tròn thể hiện tỷ lệ tổng chi tiêu của từng nhóm tuổi"
   ]
  },
  {
   "cell_type": "code",
   "execution_count": 46,
   "metadata": {
    "executionInfo": {
     "elapsed": 90,
     "status": "ok",
     "timestamp": 1740732028455,
     "user": {
      "displayName": "Lưu Giang Nam",
      "userId": "01856778175006180165"
     },
     "user_tz": -420
    },
    "id": "MJuypIkEeOz2"
   },
   "outputs": [
    {
     "data": {
      "image/png": "[encoded data removed]",
      "text/plain": [
       "<Figure size 640x480 with 1 Axes>"
      ]
     },
     "metadata": {},
     "output_type": "display_data"
    }
   ],
   "source": [
    "# Biểu đồ tròn\n",
    "a = df.groupby('Age')['Purchase'].sum()\n",
    "plt.pie(a, labels= a.index)\n",
    "plt.show()\n"
   ]
  },
  {
   "cell_type": "code",
   "execution_count": null,
   "metadata": {},
   "outputs": [],
   "source": []
  }
 ],
 "metadata": {
  "colab": {
   "authorship_tag": "ABX9TyM/q+ipv1UGN/YN+G5orZVL",
   "provenance": []
  },
  "kernelspec": {
   "display_name": "Python 3 (ipykernel)",
   "language": "python",
   "name": "python3"
  },
  "language_info": {
   "codemirror_mode": {
    "name": "ipython",
    "version": 3
   },
   "file_extension": ".py",
   "mimetype": "text/x-python",
   "name": "python",
   "nbconvert_exporter": "python",
   "pygments_lexer": "ipython3",
   "version": "3.12.0"
  }
 },
 "nbformat": 4,
 "nbformat_minor": 4
}
